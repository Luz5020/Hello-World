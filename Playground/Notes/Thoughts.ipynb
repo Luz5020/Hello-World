{
 "cells": [
  {
   "cell_type": "code",
   "execution_count": 19,
   "metadata": {},
   "outputs": [
    {
     "name": "stdout",
     "output_type": "stream",
     "text": [
      "Print Hello World\n"
     ]
    }
   ],
   "source": [
    "a=\"Print\"\n",
    "b=\"Hello\"\n",
    "c=\"World\"\n",
    "print(a,b,c)"
   ]
  },
  {
   "cell_type": "code",
   "execution_count": 20,
   "metadata": {},
   "outputs": [
    {
     "name": "stdout",
     "output_type": "stream",
     "text": [
      "5 5 5\n"
     ]
    }
   ],
   "source": [
    "print(len(a),len(b),len(c))"
   ]
  },
  {
   "cell_type": "code",
   "execution_count": 21,
   "metadata": {},
   "outputs": [
    {
     "name": "stdout",
     "output_type": "stream",
     "text": [
      "<class 'str'> <class 'str'> <class 'str'>\n"
     ]
    }
   ],
   "source": [
    "print(type(a),type(b),type(c))"
   ]
  },
  {
   "cell_type": "code",
   "execution_count": 22,
   "metadata": {},
   "outputs": [],
   "source": [
    "d=\"1\"\n",
    "e=\"2\"\n",
    "f=\"3\""
   ]
  },
  {
   "cell_type": "code",
   "execution_count": 23,
   "metadata": {},
   "outputs": [
    {
     "name": "stdout",
     "output_type": "stream",
     "text": [
      "1 2 3\n",
      "<class 'str'> <class 'str'> <class 'str'>\n",
      "1 1 1\n"
     ]
    }
   ],
   "source": [
    "print(d,e,f)\n",
    "print(type(d),type(e),type(f))\n",
    "print(len(d),len(e),len(f))"
   ]
  },
  {
   "cell_type": "code",
   "execution_count": 24,
   "metadata": {},
   "outputs": [],
   "source": [
    "di=int(d)\n",
    "ei=int(e)\n",
    "fi=int(f)"
   ]
  },
  {
   "cell_type": "code",
   "execution_count": 25,
   "metadata": {},
   "outputs": [
    {
     "name": "stdout",
     "output_type": "stream",
     "text": [
      "1 2 3\n",
      "<class 'int'> <class 'int'> <class 'int'>\n"
     ]
    }
   ],
   "source": [
    "print(di,ei,fi)\n",
    "print(type(di),type(ei),type(fi))"
   ]
  }
 ],
 "metadata": {
  "interpreter": {
   "hash": "fd44b977e064f310b15111c99bf271b3a4ccf520d5f8347c019d30fb4a7a1da4"
  },
  "kernelspec": {
   "display_name": "Python 3.10.4 64-bit",
   "language": "python",
   "name": "python3"
  },
  "language_info": {
   "codemirror_mode": {
    "name": "ipython",
    "version": 3
   },
   "file_extension": ".py",
   "mimetype": "text/x-python",
   "name": "python",
   "nbconvert_exporter": "python",
   "pygments_lexer": "ipython3",
   "version": "3.10.4"
  },
  "orig_nbformat": 4
 },
 "nbformat": 4,
 "nbformat_minor": 2
}
